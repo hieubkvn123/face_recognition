{
  "nbformat": 4,
  "nbformat_minor": 0,
  "metadata": {
    "colab": {
      "name": "SemiHardTripletLoss.ipynb",
      "provenance": [],
      "collapsed_sections": []
    },
    "kernelspec": {
      "name": "python3",
      "display_name": "Python 3"
    },
    "language_info": {
      "name": "python"
    },
    "accelerator": "GPU"
  },
  "cells": [
    {
      "cell_type": "code",
      "metadata": {
        "colab": {
          "base_uri": "https://localhost:8080/"
        },
        "id": "6IlDZyNzhknD",
        "outputId": "7bc28786-d640-479e-b930-ccf25823ae02"
      },
      "source": [
        "!pip3 install tensorflow_addons\n",
        "!pip3 install tensorflow_datasets\n",
        "import numpy as np\n",
        "import matplotlib.pyplot as plt\n",
        "from sklearn.decomposition import PCA\n",
        "\n",
        "### Tensorflow dependencies ###\n",
        "import tensorflow as tf\n",
        "import tensorflow_addons as tfa\n",
        "import tensorflow_datasets as tfds\n",
        "from tensorflow.keras.layers import *\n",
        "from tensorflow.keras.models import Model\n",
        "from tensorflow.keras import backend as K\n",
        "from tensorflow.keras.optimizers import Adam\n",
        "from tensorflow.keras.datasets import mnist\n",
        "\n",
        "### Required for semi-hard triplet loss ###\n",
        "from tensorflow.python.ops import array_ops\n",
        "from tensorflow.python.ops import math_ops\n",
        "from tensorflow.python.framework import dtypes\n",
        "import tensorflow as tf"
      ],
      "execution_count": 82,
      "outputs": [
        {
          "output_type": "stream",
          "text": [
            "Requirement already satisfied: tensorflow_addons in /usr/local/lib/python3.7/dist-packages (0.12.1)\n",
            "Requirement already satisfied: typeguard>=2.7 in /usr/local/lib/python3.7/dist-packages (from tensorflow_addons) (2.7.1)\n",
            "Requirement already satisfied: tensorflow_datasets in /usr/local/lib/python3.7/dist-packages (4.0.1)\n",
            "Requirement already satisfied: absl-py in /usr/local/lib/python3.7/dist-packages (from tensorflow_datasets) (0.12.0)\n",
            "Requirement already satisfied: six in /usr/local/lib/python3.7/dist-packages (from tensorflow_datasets) (1.15.0)\n",
            "Requirement already satisfied: promise in /usr/local/lib/python3.7/dist-packages (from tensorflow_datasets) (2.3)\n",
            "Requirement already satisfied: dill in /usr/local/lib/python3.7/dist-packages (from tensorflow_datasets) (0.3.3)\n",
            "Requirement already satisfied: attrs>=18.1.0 in /usr/local/lib/python3.7/dist-packages (from tensorflow_datasets) (20.3.0)\n",
            "Requirement already satisfied: tqdm in /usr/local/lib/python3.7/dist-packages (from tensorflow_datasets) (4.41.1)\n",
            "Requirement already satisfied: future in /usr/local/lib/python3.7/dist-packages (from tensorflow_datasets) (0.16.0)\n",
            "Requirement already satisfied: protobuf>=3.6.1 in /usr/local/lib/python3.7/dist-packages (from tensorflow_datasets) (3.12.4)\n",
            "Requirement already satisfied: numpy in /usr/local/lib/python3.7/dist-packages (from tensorflow_datasets) (1.19.5)\n",
            "Requirement already satisfied: tensorflow-metadata in /usr/local/lib/python3.7/dist-packages (from tensorflow_datasets) (0.29.0)\n",
            "Requirement already satisfied: termcolor in /usr/local/lib/python3.7/dist-packages (from tensorflow_datasets) (1.1.0)\n",
            "Requirement already satisfied: requests>=2.19.0 in /usr/local/lib/python3.7/dist-packages (from tensorflow_datasets) (2.23.0)\n",
            "Requirement already satisfied: dm-tree in /usr/local/lib/python3.7/dist-packages (from tensorflow_datasets) (0.1.6)\n",
            "Requirement already satisfied: importlib-resources; python_version < \"3.9\" in /usr/local/lib/python3.7/dist-packages (from tensorflow_datasets) (5.1.2)\n",
            "Requirement already satisfied: setuptools in /usr/local/lib/python3.7/dist-packages (from protobuf>=3.6.1->tensorflow_datasets) (56.0.0)\n",
            "Requirement already satisfied: googleapis-common-protos<2,>=1.52.0 in /usr/local/lib/python3.7/dist-packages (from tensorflow-metadata->tensorflow_datasets) (1.53.0)\n",
            "Requirement already satisfied: certifi>=2017.4.17 in /usr/local/lib/python3.7/dist-packages (from requests>=2.19.0->tensorflow_datasets) (2020.12.5)\n",
            "Requirement already satisfied: idna<3,>=2.5 in /usr/local/lib/python3.7/dist-packages (from requests>=2.19.0->tensorflow_datasets) (2.10)\n",
            "Requirement already satisfied: chardet<4,>=3.0.2 in /usr/local/lib/python3.7/dist-packages (from requests>=2.19.0->tensorflow_datasets) (3.0.4)\n",
            "Requirement already satisfied: urllib3!=1.25.0,!=1.25.1,<1.26,>=1.21.1 in /usr/local/lib/python3.7/dist-packages (from requests>=2.19.0->tensorflow_datasets) (1.24.3)\n",
            "Requirement already satisfied: zipp>=0.4; python_version < \"3.8\" in /usr/local/lib/python3.7/dist-packages (from importlib-resources; python_version < \"3.9\"->tensorflow_datasets) (3.4.1)\n"
          ],
          "name": "stdout"
        }
      ]
    },
    {
      "cell_type": "code",
      "metadata": {
        "colab": {
          "base_uri": "https://localhost:8080/"
        },
        "id": "5jyKbYgzh7fx",
        "outputId": "6e4e6bca-d39a-45d0-ea90-3a63f24f45cf"
      },
      "source": [
        "def normalize_image(images):\n",
        "  images = (images - 127.5) / 127.5\n",
        "  images = images.astype(np.float32)\n",
        "\n",
        "  return images\n",
        "\n",
        "(X_train, Y_train), (X_test, Y_test) = mnist.load_data()\n",
        "X_train, X_test = normalize_image(X_train), normalize_image(X_test)\n",
        "Y_train = Y_train.astype(np.float32)\n",
        "Y_test = Y_test.astype(np.float32)\n",
        "X_train = X_train.reshape(-1, 28, 28, 1)\n",
        "X_test = X_test.reshape(-1, 28, 28, 1)\n",
        "\n",
        "def _normalize_img(img, label):\n",
        "    img = tf.cast(img, tf.float32) / 255.\n",
        "    return (img, label)\n",
        "\n",
        "train_dataset, test_dataset = tfds.load(name=\"mnist\", split=['train', 'test'], as_supervised=True)\n",
        "\n",
        "# Build your input pipelines\n",
        "train_dataset = train_dataset.shuffle(1024).batch(32)\n",
        "train_dataset = train_dataset.map(_normalize_img)\n",
        "\n",
        "test_dataset = test_dataset.batch(32)\n",
        "test_dataset = test_dataset.map(_normalize_img)\n",
        "\n",
        "x_train, y_train = next(iter(train_dataset))\n",
        "print(y_train)"
      ],
      "execution_count": 83,
      "outputs": [
        {
          "output_type": "stream",
          "text": [
            "tf.Tensor([8 2 3 7 8 7 8 5 9 1 8 1 4 3 1 5 9 7 5 5 4 5 7 0 8 9 2 4 1 7 8 5], shape=(32,), dtype=int64)\n"
          ],
          "name": "stdout"
        }
      ]
    },
    {
      "cell_type": "code",
      "metadata": {
        "id": "UYQH09CBFwbb"
      },
      "source": [
        "def pairwise_distance(feature, squared=False):\n",
        "    \"\"\"Computes the pairwise distance matrix with numerical stability.\n",
        "\n",
        "    output[i, j] = || feature[i, :] - feature[j, :] ||_2\n",
        "\n",
        "    Args:\n",
        "      feature: 2-D Tensor of size [number of data, feature dimension].\n",
        "      squared: Boolean, whether or not to square the pairwise distances.\n",
        "\n",
        "    Returns:\n",
        "      pairwise_distances: 2-D Tensor of size [number of data, number of data].\n",
        "    \"\"\"\n",
        "    pairwise_distances_squared = math_ops.add(\n",
        "        math_ops.reduce_sum(math_ops.square(feature), axis=[1], keepdims=True),\n",
        "        math_ops.reduce_sum(\n",
        "            math_ops.square(array_ops.transpose(feature)),\n",
        "            axis=[0],\n",
        "            keepdims=True)) - 2.0 * math_ops.matmul(feature,\n",
        "                                                    array_ops.transpose(feature))\n",
        "\n",
        "    # Deal with numerical inaccuracies. Set small negatives to zero.\n",
        "    pairwise_distances_squared = math_ops.maximum(pairwise_distances_squared, 0.0)\n",
        "    # Get the mask where the zero distances are at.\n",
        "    error_mask = math_ops.less_equal(pairwise_distances_squared, 0.0)\n",
        "\n",
        "    # Optionally take the sqrt.\n",
        "    if squared:\n",
        "        pairwise_distances = pairwise_distances_squared\n",
        "    else:\n",
        "        pairwise_distances = math_ops.sqrt(\n",
        "            pairwise_distances_squared + math_ops.to_float(error_mask) * 1e-16)\n",
        "\n",
        "    # Undo conditionally adding 1e-16.\n",
        "    pairwise_distances = math_ops.multiply(\n",
        "        pairwise_distances, math_ops.to_float(math_ops.logical_not(error_mask)))\n",
        "\n",
        "    num_data = array_ops.shape(feature)[0]\n",
        "    # Explicitly set diagonals to zero.\n",
        "    mask_offdiagonals = array_ops.ones_like(pairwise_distances) - array_ops.diag(\n",
        "        array_ops.ones([num_data]))\n",
        "    pairwise_distances = math_ops.multiply(pairwise_distances, mask_offdiagonals)\n",
        "    return pairwise_distances\n",
        "\n",
        "def masked_maximum(data, mask, dim=1):\n",
        "    \"\"\"Computes the axis wise maximum over chosen elements.\n",
        "\n",
        "    Args:\n",
        "      data: 2-D float `Tensor` of size [n, m].\n",
        "      mask: 2-D Boolean `Tensor` of size [n, m].\n",
        "      dim: The dimension over which to compute the maximum.\n",
        "\n",
        "    Returns:\n",
        "      masked_maximums: N-D `Tensor`.\n",
        "        The maximized dimension is of size 1 after the operation.\n",
        "    \"\"\"\n",
        "    axis_minimums = math_ops.reduce_min(data, dim, keepdims=True)\n",
        "    masked_maximums = math_ops.reduce_max(\n",
        "        math_ops.multiply(data - axis_minimums, mask), dim,\n",
        "        keepdims=True) + axis_minimums\n",
        "    return masked_maximums\n",
        "\n",
        "def masked_minimum(data, mask, dim=1):\n",
        "    \"\"\"Computes the axis wise minimum over chosen elements.\n",
        "\n",
        "    Args:\n",
        "      data: 2-D float `Tensor` of size [n, m].\n",
        "      mask: 2-D Boolean `Tensor` of size [n, m].\n",
        "      dim: The dimension over which to compute the minimum.\n",
        "\n",
        "    Returns:\n",
        "      masked_minimums: N-D `Tensor`.\n",
        "        The minimized dimension is of size 1 after the operation.\n",
        "    \"\"\"\n",
        "    axis_maximums = math_ops.reduce_max(data, dim, keepdims=True)\n",
        "    masked_minimums = math_ops.reduce_min(\n",
        "        math_ops.multiply(data - axis_maximums, mask), dim,\n",
        "        keepdims=True) + axis_maximums\n",
        "    return masked_minimums\n",
        "\n",
        "def triplet_loss_adapted_from_tf(y_true, y_pred):\n",
        "    del y_true\n",
        "    margin = 1.2\n",
        "    labels = y_pred[:, :1]\n",
        "\n",
        " \n",
        "    labels = tf.cast(labels, dtype='int32')\n",
        "\n",
        "    embeddings = y_pred[:, 1:]\n",
        "\n",
        "    ### Code from Tensorflow function [tf.contrib.losses.metric_learning.triplet_semihard_loss] starts here:\n",
        "    \n",
        "    # Reshape [batch_size] label tensor to a [batch_size, 1] label tensor.\n",
        "    # lshape=array_ops.shape(labels)\n",
        "    # assert lshape.shape == 1\n",
        "    # labels = array_ops.reshape(labels, [lshape[0], 1])\n",
        "\n",
        "    # Build pairwise squared distance matrix.\n",
        "    pdist_matrix = pairwise_distance(embeddings, squared=True)\n",
        "    # Build pairwise binary adjacency matrix.\n",
        "    adjacency = math_ops.equal(labels, array_ops.transpose(labels))\n",
        "    # Invert so we can select negatives only.\n",
        "    adjacency_not = math_ops.logical_not(adjacency)\n",
        "\n",
        "    # global batch_size  \n",
        "    batch_size = array_ops.size(labels) # was 'array_ops.size(labels)'\n",
        "\n",
        "    # Compute the mask.\n",
        "    pdist_matrix_tile = array_ops.tile(pdist_matrix, [batch_size, 1])\n",
        "    mask = math_ops.logical_and(\n",
        "        array_ops.tile(adjacency_not, [batch_size, 1]),\n",
        "        math_ops.greater(\n",
        "            pdist_matrix_tile, array_ops.reshape(\n",
        "                array_ops.transpose(pdist_matrix), [-1, 1])))\n",
        "    mask_final = array_ops.reshape(\n",
        "        math_ops.greater(\n",
        "            math_ops.reduce_sum(\n",
        "                math_ops.cast(mask, dtype=dtypes.float32), 1, keepdims=True),\n",
        "            0.0), [batch_size, batch_size])\n",
        "    mask_final = array_ops.transpose(mask_final)\n",
        "\n",
        "    adjacency_not = math_ops.cast(adjacency_not, dtype=dtypes.float32)\n",
        "    mask = math_ops.cast(mask, dtype=dtypes.float32)\n",
        "\n",
        "    # negatives_outside: smallest D_an where D_an > D_ap.\n",
        "    negatives_outside = array_ops.reshape(\n",
        "        masked_minimum(pdist_matrix_tile, mask), [batch_size, batch_size])\n",
        "    negatives_outside = array_ops.transpose(negatives_outside)\n",
        "\n",
        "    # negatives_inside: largest D_an.\n",
        "    negatives_inside = array_ops.tile(\n",
        "        masked_maximum(pdist_matrix, adjacency_not), [1, batch_size])\n",
        "    semi_hard_negatives = array_ops.where(\n",
        "        mask_final, negatives_outside, negatives_inside)\n",
        "\n",
        "    loss_mat = math_ops.add(margin, pdist_matrix - semi_hard_negatives)\n",
        "\n",
        "    mask_positives = math_ops.cast(\n",
        "        adjacency, dtype=dtypes.float32) - array_ops.diag(\n",
        "        array_ops.ones([batch_size]))\n",
        "\n",
        "    # In lifted-struct, the authors multiply 0.5 for upper triangular\n",
        "    #   in semihard, they take all positive pairs except the diagonal.\n",
        "    num_positives = math_ops.reduce_sum(mask_positives)\n",
        "\n",
        "    semi_hard_triplet_loss_distance = math_ops.truediv(\n",
        "        math_ops.reduce_sum(\n",
        "            math_ops.maximum(\n",
        "                math_ops.multiply(loss_mat, mask_positives), 0.0)),\n",
        "        num_positives,\n",
        "        name='triplet_semihard_loss')\n",
        "    \n",
        "    ### Code from Tensorflow function semi-hard triplet loss ENDS here.\n",
        "    return semi_hard_triplet_loss_distance\n"
      ],
      "execution_count": 90,
      "outputs": []
    },
    {
      "cell_type": "code",
      "metadata": {
        "colab": {
          "base_uri": "https://localhost:8080/"
        },
        "id": "qjclLQyuiLF-",
        "outputId": "6d232568-9550-4dc9-8132-46f4dbf32a1e"
      },
      "source": [
        "def get_model():\n",
        "  inputs = Input(shape=(28,28,1))\n",
        "  label_inputs = Input(shape=(1,))\n",
        "  x = Conv2D(64, kernel_size=2, padding='same', activation='relu')(inputs)\n",
        "  x = MaxPooling2D((2,2))(x)\n",
        "  x = Dropout(0.3)(x)\n",
        "  x = Conv2D(32, kernel_size=2, padding='same', activation='relu')(x)\n",
        "  x = MaxPooling2D((2,2))(x)\n",
        "  x = Dropout(0.3)(x)\n",
        "  x = Flatten()(x)\n",
        "\n",
        "  emb = Dense(128, name='embedding')(x)\n",
        "  emb_norm = Lambda(lambda x : tf.math.l2_normalize(x, axis=1), name='normalized_embedding')(emb)\n",
        "  labels_plus_embeddings = concatenate([label_inputs, emb], name='labels_and_embs')\n",
        "\n",
        "  # output = Dense(10, name='probability')(emb)\n",
        "  model = Model(inputs=[inputs, label_inputs], outputs=[labels_plus_embeddings, emb_norm], name='TripletLoss_Softmax')\n",
        "  return model\n",
        "\n",
        "losses = {\n",
        "    # 'probability' : tf.keras.losses.SparseCategoricalCrossentropy(from_logits=True),\n",
        "    'normalized_embedding' : tfa.losses.TripletSemiHardLoss(distance_metric='angular', margin=0.5),\n",
        "    'labels_and_embs' : triplet_loss_adapted_from_tf\n",
        "}\n",
        "\n",
        "train_targets = {\n",
        "    # 'probability' : Y_train,\n",
        "    'normalized_embedding' : Y_train,\n",
        "    'labels_and_embs' : Y_train\n",
        "}\n",
        "\n",
        "val_targets = {\n",
        "    # 'probability' : Y_test,\n",
        "    'normalized_embedding' : Y_test,\n",
        "    'labels_and_embs' : Y_test\n",
        "}\n",
        "\n",
        "model = get_model()\n",
        "model.compile(optimizer=Adam(lr=0.00001), loss=losses)\n",
        "print(model.summary())"
      ],
      "execution_count": 92,
      "outputs": [
        {
          "output_type": "stream",
          "text": [
            "Model: \"TripletLoss_Softmax\"\n",
            "__________________________________________________________________________________________________\n",
            "Layer (type)                    Output Shape         Param #     Connected to                     \n",
            "==================================================================================================\n",
            "input_25 (InputLayer)           [(None, 28, 28, 1)]  0                                            \n",
            "__________________________________________________________________________________________________\n",
            "conv2d_38 (Conv2D)              (None, 28, 28, 64)   320         input_25[0][0]                   \n",
            "__________________________________________________________________________________________________\n",
            "max_pooling2d_38 (MaxPooling2D) (None, 14, 14, 64)   0           conv2d_38[0][0]                  \n",
            "__________________________________________________________________________________________________\n",
            "dropout_38 (Dropout)            (None, 14, 14, 64)   0           max_pooling2d_38[0][0]           \n",
            "__________________________________________________________________________________________________\n",
            "conv2d_39 (Conv2D)              (None, 14, 14, 32)   8224        dropout_38[0][0]                 \n",
            "__________________________________________________________________________________________________\n",
            "max_pooling2d_39 (MaxPooling2D) (None, 7, 7, 32)     0           conv2d_39[0][0]                  \n",
            "__________________________________________________________________________________________________\n",
            "dropout_39 (Dropout)            (None, 7, 7, 32)     0           max_pooling2d_39[0][0]           \n",
            "__________________________________________________________________________________________________\n",
            "flatten_19 (Flatten)            (None, 1568)         0           dropout_39[0][0]                 \n",
            "__________________________________________________________________________________________________\n",
            "input_26 (InputLayer)           [(None, 1)]          0                                            \n",
            "__________________________________________________________________________________________________\n",
            "embedding (Dense)               (None, 128)          200832      flatten_19[0][0]                 \n",
            "__________________________________________________________________________________________________\n",
            "labels_and_embs (Concatenate)   (None, 129)          0           input_26[0][0]                   \n",
            "                                                                 embedding[0][0]                  \n",
            "__________________________________________________________________________________________________\n",
            "normalized_embedding (Lambda)   (None, 128)          0           embedding[0][0]                  \n",
            "==================================================================================================\n",
            "Total params: 209,376\n",
            "Trainable params: 209,376\n",
            "Non-trainable params: 0\n",
            "__________________________________________________________________________________________________\n",
            "None\n"
          ],
          "name": "stdout"
        }
      ]
    },
    {
      "cell_type": "code",
      "metadata": {
        "colab": {
          "base_uri": "https://localhost:8080/"
        },
        "id": "KJv3scFVj5sA",
        "outputId": "18b07ef3-ee24-4daa-b30a-4f4bf00197df"
      },
      "source": [
        "history = model.fit([X_train, Y_train], Y_train, validation_data=([X_test, Y_test], Y_test), epochs=10, batch_size=64)"
      ],
      "execution_count": 93,
      "outputs": [
        {
          "output_type": "stream",
          "text": [
            "Epoch 1/10\n",
            "938/938 [==============================] - 13s 12ms/step - loss: 1.5804 - labels_and_embs_loss: 1.0848 - normalized_embedding_loss: 0.4956 - val_loss: 1.3254 - val_labels_and_embs_loss: 0.8626 - val_normalized_embedding_loss: 0.4628\n",
            "Epoch 2/10\n",
            "938/938 [==============================] - 11s 12ms/step - loss: 1.3838 - labels_and_embs_loss: 0.8978 - normalized_embedding_loss: 0.4861 - val_loss: 1.0194 - val_labels_and_embs_loss: 0.5795 - val_normalized_embedding_loss: 0.4399\n",
            "Epoch 3/10\n",
            "938/938 [==============================] - 11s 12ms/step - loss: 1.1220 - labels_and_embs_loss: 0.6492 - normalized_embedding_loss: 0.4728 - val_loss: 0.8594 - val_labels_and_embs_loss: 0.4328 - val_normalized_embedding_loss: 0.4266\n",
            "Epoch 4/10\n",
            "938/938 [==============================] - 11s 12ms/step - loss: 0.9590 - labels_and_embs_loss: 0.4973 - normalized_embedding_loss: 0.4617 - val_loss: 0.7647 - val_labels_and_embs_loss: 0.3515 - val_normalized_embedding_loss: 0.4132\n",
            "Epoch 5/10\n",
            "938/938 [==============================] - 11s 12ms/step - loss: 0.8762 - labels_and_embs_loss: 0.4226 - normalized_embedding_loss: 0.4536 - val_loss: 0.7004 - val_labels_and_embs_loss: 0.3019 - val_normalized_embedding_loss: 0.3985\n",
            "Epoch 6/10\n",
            "938/938 [==============================] - 11s 12ms/step - loss: 0.8203 - labels_and_embs_loss: 0.3756 - normalized_embedding_loss: 0.4447 - val_loss: 0.6492 - val_labels_and_embs_loss: 0.2672 - val_normalized_embedding_loss: 0.3820\n",
            "Epoch 7/10\n",
            "938/938 [==============================] - 11s 12ms/step - loss: 0.7742 - labels_and_embs_loss: 0.3385 - normalized_embedding_loss: 0.4357 - val_loss: 0.6025 - val_labels_and_embs_loss: 0.2386 - val_normalized_embedding_loss: 0.3639\n",
            "Epoch 8/10\n",
            "938/938 [==============================] - 11s 12ms/step - loss: 0.7399 - labels_and_embs_loss: 0.3157 - normalized_embedding_loss: 0.4243 - val_loss: 0.5652 - val_labels_and_embs_loss: 0.2190 - val_normalized_embedding_loss: 0.3462\n",
            "Epoch 9/10\n",
            "938/938 [==============================] - 11s 12ms/step - loss: 0.7111 - labels_and_embs_loss: 0.2970 - normalized_embedding_loss: 0.4141 - val_loss: 0.5290 - val_labels_and_embs_loss: 0.1999 - val_normalized_embedding_loss: 0.3291\n",
            "Epoch 10/10\n",
            "938/938 [==============================] - 11s 12ms/step - loss: 0.6815 - labels_and_embs_loss: 0.2787 - normalized_embedding_loss: 0.4028 - val_loss: 0.4978 - val_labels_and_embs_loss: 0.1838 - val_normalized_embedding_loss: 0.3140\n"
          ],
          "name": "stdout"
        }
      ]
    },
    {
      "cell_type": "code",
      "metadata": {
        "colab": {
          "base_uri": "https://localhost:8080/",
          "height": 322
        },
        "id": "ed5vd_-slqx3",
        "outputId": "d3f5c7b5-575e-453c-f00c-aff1a37575d8"
      },
      "source": [
        "embedder = Model(inputs=model.inputs[0], outputs=model.get_layer(\"embedding\").output)\n",
        "test_embs = embedder.predict(X_test)\n",
        "# test_embs /= np.linalg.norm(test_embs, axis=1, keepdims=True)\n",
        "test_embs = PCA(n_components=3).fit_transform(test_embs)\n",
        "\n",
        "fig = plt.figure(figsize=(10,5))\n",
        "ax = fig.add_subplot(121, projection='3d')\n",
        "ax2 = fig.add_subplot(122)\n",
        "\n",
        "for label in np.unique(Y_test):\n",
        "  cluster = test_embs[Y_test == label]\n",
        "  ax.scatter(cluster[:,0], cluster[:, 1], cluster[:,2])\n",
        "\n",
        "ax2.plot(history.history['loss'])\n",
        "ax2.plot(history.history['val_loss'])\n",
        "plt.show()"
      ],
      "execution_count": 96,
      "outputs": [
        {
          "output_type": "display_data",
          "data": {
            "image/png": "[encoded data removed]",
            "text/plain": [
              "<Figure size 720x360 with 2 Axes>"
            ]
          },
          "metadata": {
            "tags": [],
            "needs_background": "light"
          }
        }
      ]
    },
    {
      "cell_type": "code",
      "metadata": {
        "colab": {
          "base_uri": "https://localhost:8080/"
        },
        "id": "x8ybg3DJmX3B",
        "outputId": "f92f500e-a5bd-4a44-81b9-1524bf408e7e"
      },
      "source": [
        "!nvidia-smi"
      ],
      "execution_count": 88,
      "outputs": [
        {
          "output_type": "stream",
          "text": [
            "Fri May  7 10:32:04 2021       \n",
            "+-----------------------------------------------------------------------------+\n",
            "| NVIDIA-SMI 465.19.01    Driver Version: 460.32.03    CUDA Version: 11.2     |\n",
            "|-------------------------------+----------------------+----------------------+\n",
            "| GPU  Name        Persistence-M| Bus-Id        Disp.A | Volatile Uncorr. ECC |\n",
            "| Fan  Temp  Perf  Pwr:Usage/Cap|         Memory-Usage | GPU-Util  Compute M. |\n",
            "|                               |                      |               MIG M. |\n",
            "|===============================+======================+======================|\n",
            "|   0  Tesla K80           Off  | 00000000:00:04.0 Off |                    0 |\n",
            "| N/A   57C    P0    68W / 149W |    413MiB / 11441MiB |      0%      Default |\n",
            "|                               |                      |                  N/A |\n",
            "+-------------------------------+----------------------+----------------------+\n",
            "                                                                               \n",
            "+-----------------------------------------------------------------------------+\n",
            "| Processes:                                                                  |\n",
            "|  GPU   GI   CI        PID   Type   Process name                  GPU Memory |\n",
            "|        ID   ID                                                   Usage      |\n",
            "|=============================================================================|\n",
            "+-----------------------------------------------------------------------------+\n"
          ],
          "name": "stdout"
        }
      ]
    },
    {
      "cell_type": "code",
      "metadata": {
        "id": "B3ZXabJJ-g9p"
      },
      "source": [
        ""
      ],
      "execution_count": 88,
      "outputs": []
    }
  ]
}