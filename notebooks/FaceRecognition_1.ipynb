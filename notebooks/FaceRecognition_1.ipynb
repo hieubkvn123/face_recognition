{
 "cells": [
  {
   "cell_type": "code",
   "execution_count": null,
   "metadata": {
    "colab": {
     "base_uri": "https://localhost:8080/"
    },
    "id": "H7NKthaPr-E6",
    "outputId": "42bfe118-6088-4b63-917b-8091193bc027"
   },
   "outputs": [
    {
     "name": "stdout",
     "output_type": "stream",
     "text": [
      "Mounted at /content/drive\n"
     ]
    }
   ],
   "source": [
    "from google.colab import drive\n",
    "drive.mount('/content/drive')"
   ]
  },
  {
   "cell_type": "code",
   "execution_count": null,
   "metadata": {
    "id": "ApmVUVRgn6o7"
   },
   "outputs": [],
   "source": [
    "!pip install mtcnn"
   ]
  },
  {
   "cell_type": "code",
   "execution_count": null,
   "metadata": {
    "id": "Sw8HMjg17fmX"
   },
   "outputs": [],
   "source": [
    "import os\n",
    "import cv2\n",
    "import math\n",
    "import pickle\n",
    "import numpy as np\n",
    "from PIL import Image\n",
    "from random import choice\n",
    "import matplotlib.pyplot as plt\n",
    "\n",
    "import tensorflow as tf\n",
    "from tensorflow.keras.utils import get_file\n",
    "from tensorflow.keras.models import load_model\n",
    "from tensorflow.keras.optimizers import SGD, Adam\n",
    "from tensorflow.keras import regularizers, Model, Sequential\n",
    "from tensorflow.keras.layers import BatchNormalization, Input, Dense, Dropout, Flatten, Input, AveragePooling2D, Layer\n",
    "from tensorflow.keras.callbacks import EarlyStopping, ModelCheckpoint, ReduceLROnPlateau, CSVLogger, LearningRateScheduler, TerminateOnNaN, LambdaCallback\n",
    "\n",
    "from sklearn.svm import SVC\n",
    "from sklearn.utils import shuffle\n",
    "from sklearn.metrics import accuracy_score\n",
    "from sklearn.preprocessing import Normalizer\n",
    "from sklearn.preprocessing import LabelEncoder\n",
    "from sklearn.metrics import plot_confusion_matrix\n",
    "from sklearn.model_selection import train_test_split\n",
    "\n",
    "from sklearn.preprocessing import LabelEncoder\n",
    "from sklearn.preprocessing import OneHotEncoder\n",
    "\n",
    "%matplotlib inline\n",
    "\n",
    "import warnings\n",
    "warnings.filterwarnings('ignore')\n",
    "\n",
    "# from mtcnn.mtcnn import MTCNN"
   ]
  },
  {
   "cell_type": "markdown",
   "metadata": {
    "id": "w0HpRGSlQYI_"
   },
   "source": [
    "### Reading TFrecord"
   ]
  },
  {
   "cell_type": "code",
   "execution_count": null,
   "metadata": {
    "id": "Q5RPNhsnQXtu"
   },
   "outputs": [],
   "source": [
    "# function to parse single tfrecord example\n",
    "def _parse_tfrecord():\n",
    "    def parse_tfrecord(tfrecord):\n",
    "        features = {'image/source_id': tf.io.FixedLenFeature([], tf.int64),\n",
    "                    # 'image/filename': tf.io.FixedLenFeature([], tf.string),\n",
    "                    'image/encoded': tf.io.FixedLenFeature([], tf.string)}\n",
    "        x = tf.io.parse_single_example(tfrecord, features)\n",
    "        x_train = tf.image.decode_jpeg(x['image/encoded'], channels=3)\n",
    "\n",
    "        #         y_label = tf.cast(x['image/source_id'], tf.int64)\n",
    "        y_train = tf.one_hot(x['image/source_id'], 4250)\n",
    "        # y_train = x['image/source_id']\n",
    "        # filename = x['image/filename']\n",
    "\n",
    "        x_train = _transform_images()(x_train)\n",
    "        return (x_train, y_train)\n",
    "\n",
    "    return parse_tfrecord\n",
    "\n",
    "# function to do some data augmentation\n",
    "def _transform_images():\n",
    "    def transform_images(x_train):\n",
    "        # x_train = tf.image.resize(x_train, (170, 170))\n",
    "        # x_train = tf.image.random_crop(x_train, (160, 160, 3))\n",
    "        x_train = tf.image.convert_image_dtype(x_train, dtype=tf.float32, saturate=False)\n",
    "        x_train = tf.image.random_flip_left_right(x_train)\n",
    "        x_train = tf.image.random_saturation(x_train, 0.6, 1.4)\n",
    "        x_train = tf.image.random_brightness(x_train, 0.4)\n",
    "        mean = tf.math.reduce_mean(x_train)\n",
    "        std = tf.math.reduce_std(x_train)\n",
    "        x_train = tf.math.subtract(x_train, mean)\n",
    "        x_train = tf.math.divide(x_train, std)\n",
    "        #         x_train = x_train / 255\n",
    "        return x_train\n",
    "\n",
    "    return transform_images\n",
    "\n",
    "# reading tfrecord\n",
    "def load_tfrecord_dataset(tfrecord_name, batch_size, repeat=False, shuffle=False, buffer_size=100000):\n",
    "    \"\"\"load dataset from tfrecord\"\"\"\n",
    "    # dataset_len = int(sum(1 for _ in tf.data.TFRecordDataset(tfrecord_name)))\n",
    "\n",
    "    # train_size = round(0.85 * int(dataset_len / batch_size))\n",
    "    # val_size = round(0.15 * int(dataset_len / batch_size))\n",
    "\n",
    "    raw_dataset = tf.data.TFRecordDataset(tfrecord_name)\n",
    "    # raw_dataset = raw_dataset.repeat()\n",
    "\n",
    "    if shuffle:\n",
    "        raw_dataset = raw_dataset.shuffle(buffer_size=buffer_size)\n",
    "\n",
    "    dataset = raw_dataset.map(_parse_tfrecord(), num_parallel_calls=tf.data.experimental.AUTOTUNE)\n",
    "    dataset = dataset.batch(batch_size)\n",
    "    dataset = dataset.prefetch(buffer_size=tf.data.experimental.AUTOTUNE)\n",
    "\n",
    "    if repeat:\n",
    "        dataset = dataset.repeat()\n",
    "\n",
    "    # train_dataset = dataset.take(train_size)\n",
    "    # val_dataset = dataset.skip(train_size)\n",
    "\n",
    "    # train_dataset = train_dataset.repeat()\n",
    "    # val_dataset = val_dataset.repeat()\n",
    "\n",
    "    return dataset"
   ]
  },
  {
   "cell_type": "markdown",
   "metadata": {
    "id": "F-tP7ETtmvLo"
   },
   "source": [
    "# Get Data"
   ]
  },
  {
   "cell_type": "code",
   "execution_count": null,
   "metadata": {
    "colab": {
     "base_uri": "https://localhost:8080/"
    },
    "id": "555UxLWimyHR",
    "outputId": "2a34f79e-e938-4001-86c7-4bc8ff601270"
   },
   "outputs": [
    {
     "name": "stdout",
     "output_type": "stream",
     "text": [
      "total number of samples: 4250\n",
      "<PrefetchDataset shapes: ((None, None, None, 3), (None, 4250)), types: (tf.float32, tf.float32)>\n"
     ]
    }
   ],
   "source": [
    "train_tfrecord_name = \"./celeba_(train)_new.tfrecord\"\n",
    "\n",
    "train_dataset_len = sum(1 for _ in tf.data.TFRecordDataset(train_tfrecord_name))\n",
    "print(\"total number of samples:\", train_dataset_len)\n",
    "\n",
    "train_dataset = load_tfrecord_dataset(train_tfrecord_name, 32, shuffle=True)\n",
    "\n",
    "print(train_dataset)"
   ]
  },
  {
   "cell_type": "code",
   "execution_count": null,
   "metadata": {
    "colab": {
     "base_uri": "https://localhost:8080/"
    },
    "id": "o_D8kmwunB0v",
    "outputId": "388e7707-eef6-4162-8cba-1e49cfa57e04"
   },
   "outputs": [
    {
     "name": "stdout",
     "output_type": "stream",
     "text": [
      "total number of samples: 76370\n",
      "<PrefetchDataset shapes: ((None, None, None, 3), (None, 4250)), types: (tf.float32, tf.float32)>\n"
     ]
    }
   ],
   "source": [
    "test_tfrecord_name = \"./celeba_(test)_new.tfrecord\"\n",
    "\n",
    "test_dataset_len = sum(1 for _ in tf.data.TFRecordDataset(test_tfrecord_name))\n",
    "print(\"total number of samples:\", test_dataset_len)\n",
    "\n",
    "test_dataset = load_tfrecord_dataset(test_tfrecord_name, 1, shuffle=False)\n",
    "\n",
    "print(test_dataset)"
   ]
  },
  {
   "cell_type": "markdown",
   "metadata": {
    "id": "xs2ZpdY07fmo"
   },
   "source": [
    "# Training"
   ]
  },
  {
   "cell_type": "code",
   "execution_count": null,
   "metadata": {
    "colab": {
     "base_uri": "https://localhost:8080/"
    },
    "id": "ZzyWg7wI7fmp",
    "outputId": "79694ef3-bf00-4a83-ad98-0461845557b6"
   },
   "outputs": [
    {
     "name": "stdout",
     "output_type": "stream",
     "text": [
      "WARNING:tensorflow:No training configuration found in the save file, so the model was *not* compiled. Compile it manually.\n"
     ]
    }
   ],
   "source": [
    "emb_shape = 512\n",
    "w_decay = 1e-4\n",
    "num_classes = train_dataset_len\n",
    "\n",
    "# using facenet as the backbone model\n",
    "model_face = load_model('facenet_keras.h5')\n",
    "\n",
    "# freeze all layers\n",
    "for layer in model_face.layers[:]:\n",
    "    layer.trainable = False\n",
    "\n",
    "# adding custom layers\n",
    "last = model_face.output\n",
    "x = BatchNormalization()(last)\n",
    "x = Dropout(rate=0.5)(x)\n",
    "x = Dense(emb_shape, activation='relu', kernel_initializer='he_normal', kernel_regularizer=regularizers.l2(w_decay))(x)\n",
    "x = BatchNormalization()(x)\n",
    "x = Dense(num_classes, activation = \"softmax\", kernel_regularizer=regularizers.l2(w_decay))(x)\n",
    "\n",
    "model = Model(inputs=model_face.input, outputs=x, name=\"model_1\")"
   ]
  },
  {
   "cell_type": "code",
   "execution_count": null,
   "metadata": {
    "colab": {
     "base_uri": "https://localhost:8080/"
    },
    "id": "lzqMq9JV7fmq",
    "outputId": "d5ec4373-fd1c-4713-9374-b06b59436d32"
   },
   "outputs": [
    {
     "name": "stdout",
     "output_type": "stream",
     "text": [
      "Epoch 1/200\n",
      "250/250 [==============================] - 51s 55ms/step - loss: 8.6479 - accuracy: 1.0653e-04\n",
      "Epoch 2/200\n",
      "250/250 [==============================] - 13s 53ms/step - loss: 8.5291 - accuracy: 7.0335e-04\n",
      "Epoch 3/200\n",
      "250/250 [==============================] - 13s 54ms/step - loss: 8.4239 - accuracy: 0.0011\n",
      "Epoch 4/200\n",
      "250/250 [==============================] - 14s 55ms/step - loss: 8.2886 - accuracy: 0.0020\n",
      "Epoch 5/200\n",
      "250/250 [==============================] - 14s 55ms/step - loss: 8.1752 - accuracy: 0.0050\n",
      "Epoch 6/200\n",
      "250/250 [==============================] - 14s 54ms/step - loss: 8.0660 - accuracy: 0.0098\n",
      "Epoch 7/200\n",
      "250/250 [==============================] - 13s 54ms/step - loss: 7.9385 - accuracy: 0.0213\n",
      "Epoch 8/200\n",
      "250/250 [==============================] - 13s 54ms/step - loss: 7.8082 - accuracy: 0.0359\n",
      "Epoch 9/200\n",
      "250/250 [==============================] - 14s 54ms/step - loss: 7.6965 - accuracy: 0.0510\n",
      "Epoch 10/200\n",
      "250/250 [==============================] - 14s 55ms/step - loss: 7.5764 - accuracy: 0.0824\n",
      "Epoch 11/200\n",
      "250/250 [==============================] - 14s 54ms/step - loss: 7.4581 - accuracy: 0.1116\n",
      "Epoch 12/200\n",
      "250/250 [==============================] - 13s 54ms/step - loss: 7.3464 - accuracy: 0.1446\n",
      "Epoch 13/200\n",
      "250/250 [==============================] - 13s 54ms/step - loss: 7.2208 - accuracy: 0.1888\n",
      "Epoch 14/200\n",
      "250/250 [==============================] - 14s 54ms/step - loss: 7.0824 - accuracy: 0.2363\n",
      "Epoch 15/200\n",
      "250/250 [==============================] - 14s 54ms/step - loss: 6.9607 - accuracy: 0.2883\n",
      "Epoch 16/200\n",
      "250/250 [==============================] - 14s 54ms/step - loss: 6.8041 - accuracy: 0.3635\n",
      "Epoch 17/200\n",
      "250/250 [==============================] - 13s 53ms/step - loss: 6.6794 - accuracy: 0.4181\n",
      "Epoch 18/200\n",
      "250/250 [==============================] - 14s 54ms/step - loss: 6.5380 - accuracy: 0.4819\n",
      "Epoch 19/200\n",
      "250/250 [==============================] - 13s 54ms/step - loss: 6.4125 - accuracy: 0.5240\n",
      "Epoch 20/200\n",
      "250/250 [==============================] - 13s 54ms/step - loss: 6.2691 - accuracy: 0.5744\n",
      "Epoch 21/200\n",
      "250/250 [==============================] - 14s 54ms/step - loss: 6.1294 - accuracy: 0.6246\n",
      "Epoch 22/200\n",
      "250/250 [==============================] - 14s 54ms/step - loss: 5.9458 - accuracy: 0.6851\n",
      "Epoch 23/200\n",
      "250/250 [==============================] - 14s 54ms/step - loss: 5.8092 - accuracy: 0.7182\n",
      "Epoch 24/200\n",
      "250/250 [==============================] - 14s 54ms/step - loss: 5.6436 - accuracy: 0.7557\n",
      "Epoch 25/200\n",
      "250/250 [==============================] - 14s 55ms/step - loss: 5.4572 - accuracy: 0.8048\n",
      "Epoch 26/200\n",
      "250/250 [==============================] - 14s 55ms/step - loss: 5.2952 - accuracy: 0.8398\n",
      "Epoch 27/200\n",
      "250/250 [==============================] - 14s 55ms/step - loss: 5.1369 - accuracy: 0.8648\n",
      "Epoch 28/200\n",
      "250/250 [==============================] - 14s 55ms/step - loss: 4.9517 - accuracy: 0.8779\n",
      "Epoch 29/200\n",
      "250/250 [==============================] - 14s 57ms/step - loss: 4.7660 - accuracy: 0.9034\n",
      "Epoch 30/200\n",
      "250/250 [==============================] - 14s 57ms/step - loss: 4.5958 - accuracy: 0.9195\n",
      "Epoch 31/200\n",
      "250/250 [==============================] - 14s 57ms/step - loss: 4.3713 - accuracy: 0.9335\n",
      "Epoch 32/200\n",
      "250/250 [==============================] - 14s 56ms/step - loss: 4.2002 - accuracy: 0.9422\n",
      "Epoch 33/200\n",
      "250/250 [==============================] - 14s 55ms/step - loss: 3.9963 - accuracy: 0.9590\n",
      "Epoch 34/200\n",
      "250/250 [==============================] - 14s 54ms/step - loss: 3.8034 - accuracy: 0.9673\n",
      "Epoch 35/200\n",
      "250/250 [==============================] - 14s 55ms/step - loss: 3.6233 - accuracy: 0.9663\n",
      "Epoch 36/200\n",
      "250/250 [==============================] - 14s 55ms/step - loss: 3.4103 - accuracy: 0.9767\n",
      "Epoch 37/200\n",
      "250/250 [==============================] - 14s 55ms/step - loss: 3.2288 - accuracy: 0.9824\n",
      "Epoch 38/200\n",
      "250/250 [==============================] - 14s 55ms/step - loss: 3.0575 - accuracy: 0.9844\n",
      "Epoch 39/200\n",
      "250/250 [==============================] - 14s 55ms/step - loss: 2.8745 - accuracy: 0.9862\n",
      "Epoch 40/200\n",
      "250/250 [==============================] - 14s 55ms/step - loss: 2.6571 - accuracy: 0.9911\n",
      "Epoch 41/200\n",
      "250/250 [==============================] - 14s 55ms/step - loss: 2.4854 - accuracy: 0.9911\n",
      "Epoch 42/200\n",
      "250/250 [==============================] - 14s 55ms/step - loss: 2.3309 - accuracy: 0.9960\n",
      "Epoch 43/200\n",
      "250/250 [==============================] - 14s 56ms/step - loss: 2.1695 - accuracy: 0.9934\n",
      "Epoch 44/200\n",
      "250/250 [==============================] - 14s 55ms/step - loss: 2.0301 - accuracy: 0.9943\n",
      "Epoch 45/200\n",
      "250/250 [==============================] - 14s 55ms/step - loss: 1.8996 - accuracy: 0.9965\n",
      "Epoch 46/200\n",
      "250/250 [==============================] - 14s 55ms/step - loss: 1.7788 - accuracy: 0.9961\n",
      "Epoch 47/200\n",
      "250/250 [==============================] - 14s 56ms/step - loss: 1.6425 - accuracy: 0.9980\n",
      "Epoch 48/200\n",
      "250/250 [==============================] - 14s 55ms/step - loss: 1.5350 - accuracy: 0.9967\n",
      "Epoch 49/200\n",
      "250/250 [==============================] - 14s 55ms/step - loss: 1.4389 - accuracy: 0.9970\n",
      "Epoch 50/200\n",
      "250/250 [==============================] - 14s 55ms/step - loss: 1.3262 - accuracy: 0.9966\n",
      "Epoch 51/200\n",
      "250/250 [==============================] - 14s 57ms/step - loss: 1.2717 - accuracy: 0.9982\n",
      "Epoch 52/200\n",
      "250/250 [==============================] - 14s 57ms/step - loss: 1.1899 - accuracy: 0.9981\n",
      "Epoch 53/200\n",
      "250/250 [==============================] - 14s 57ms/step - loss: 1.1235 - accuracy: 0.9983\n",
      "Epoch 54/200\n",
      "250/250 [==============================] - 14s 56ms/step - loss: 1.0647 - accuracy: 0.9992\n",
      "Epoch 55/200\n",
      "250/250 [==============================] - 14s 55ms/step - loss: 1.0225 - accuracy: 0.9982\n",
      "Epoch 56/200\n",
      "250/250 [==============================] - 14s 55ms/step - loss: 0.9749 - accuracy: 0.9982\n"
     ]
    }
   ],
   "source": [
    "lr = 0.005\n",
    "min_lr = 0.0001\n",
    "momentum = 0.5\n",
    "total_epochs = 200\n",
    "\n",
    "callback = tf.keras.callbacks.EarlyStopping(monitor='accuracy', patience=3)\n",
    "\n",
    "optimizer = tf.keras.optimizers.SGD(learning_rate=lr, momentum=momentum, nesterov=True)\n",
    "\n",
    "model.compile(loss=\"categorical_crossentropy\", optimizer=optimizer, metrics=['accuracy'])\n",
    "\n",
    "history = model.fit(train_dataset.repeat(), epochs=total_epochs, verbose=1, steps_per_epoch=250, callbacks=[callback])"
   ]
  },
  {
   "cell_type": "code",
   "execution_count": null,
   "metadata": {
    "id": "xreLZEiGLzTM"
   },
   "outputs": [],
   "source": [
    "model.save(\"my_model_new.h5\")"
   ]
  },
  {
   "cell_type": "code",
   "execution_count": null,
   "metadata": {
    "id": "MzB-tJ5IL317"
   },
   "outputs": [],
   "source": [
    "model = tf.keras.models.load_model('my_model(size20)_tfrecord_latest.h5')"
   ]
  },
  {
   "cell_type": "code",
   "execution_count": null,
   "metadata": {
    "colab": {
     "base_uri": "https://localhost:8080/",
     "height": 282
    },
    "id": "MUlMv78S7fmr",
    "outputId": "c904bc84-b05f-4492-eadc-9615eedbbaa1"
   },
   "outputs": [
    {
     "data": {
      "text/plain": [
       "[<matplotlib.lines.Line2D at 0x7f4987fee150>]"
      ]
     },
     "execution_count": 11,
     "metadata": {
      "tags": []
     },
     "output_type": "execute_result"
    },
    {
     "data": {
      "image/png": "[encoded data removed]",
      "text/plain": [
       "<Figure size 432x288 with 1 Axes>"
      ]
     },
     "metadata": {
      "tags": []
     },
     "output_type": "display_data"
    }
   ],
   "source": [
    "plt.plot(history.history[\"accuracy\"])"
   ]
  },
  {
   "cell_type": "code",
   "execution_count": null,
   "metadata": {
    "colab": {
     "base_uri": "https://localhost:8080/",
     "height": 283
    },
    "id": "-a8sWDjI7fms",
    "outputId": "e5eaf9b4-d0c2-41b6-b5cd-8cc115fe1a3f"
   },
   "outputs": [
    {
     "data": {
      "text/plain": [
       "[<matplotlib.lines.Line2D at 0x7f28d9d32890>]"
      ]
     },
     "execution_count": 15,
     "metadata": {
      "tags": []
     },
     "output_type": "execute_result"
    },
    {
     "data": {
      "image/png": "[encoded data removed]",
      "text/plain": [
       "<Figure size 432x288 with 1 Axes>"
      ]
     },
     "metadata": {
      "tags": []
     },
     "output_type": "display_data"
    }
   ],
   "source": [
    "plt.plot(history.history[\"loss\"])"
   ]
  },
  {
   "cell_type": "markdown",
   "metadata": {
    "id": "7ZCp5iAr7fms"
   },
   "source": [
    "# Testing\n"
   ]
  },
  {
   "cell_type": "code",
   "execution_count": null,
   "metadata": {
    "colab": {
     "base_uri": "https://localhost:8080/"
    },
    "id": "6s8jJW5lsDMa",
    "outputId": "0a513873-ebc8-4e03-82d4-c611c0aa77cf"
   },
   "outputs": [
    {
     "name": "stdout",
     "output_type": "stream",
     "text": [
      "76370/76370 [==============================] - 1201s 16ms/step - loss: 1.8436 - accuracy: 0.9178\n"
     ]
    },
    {
     "data": {
      "text/plain": [
       "[1.8436434268951416, 0.9177818298339844]"
      ]
     },
     "execution_count": 9,
     "metadata": {
      "tags": []
     },
     "output_type": "execute_result"
    }
   ],
   "source": [
    "model.evaluate(test_dataset)"
   ]
  },
  {
   "cell_type": "code",
   "execution_count": null,
   "metadata": {
    "id": "k-YorZNWMYau"
   },
   "outputs": [],
   "source": [
    "# getting all images with incorrect prediction\n",
    "images = list()\n",
    "true_labels = list()\n",
    "predicted_labels = list()\n",
    "count = 0\n",
    "\n",
    "for record in test_dataset:\n",
    "\n",
    "    (a, b) = (record)\n",
    "\n",
    "    prediction = model.predict(a)\n",
    "    predicted_label = np.argmax(prediction, axis=1)\n",
    "    true_label = np.argmax(b, axis=1)\n",
    "\n",
    "    if predicted_label[0] != true_label[0]:\n",
    "        count += 1\n",
    "        images.append(a[0])\n",
    "        true_labels.append(true_label[0])\n",
    "        predicted_labels.append(predicted_label[0])\n",
    "        # print(count)\n",
    "\n",
    "print(len(images), len(true_labels), len(predicted_labels))"
   ]
  },
  {
   "cell_type": "code",
   "execution_count": null,
   "metadata": {
    "id": "uxB-jJo4qBQ3"
   },
   "outputs": [],
   "source": [
    "# plot all images with incorrect prediction\n",
    "plt.figure(figsize=(25, 800))\n",
    "\n",
    "for i in range(len(images[0:2000])):\n",
    "    plt.subplot(500, 10, i+1)\n",
    "    plt.axis('off')\n",
    "    plt.title(\"T:\" + str(true_labels[i]), loc=\"left\", fontsize=8)\n",
    "    plt.title(\"P:\" + str(predicted_labels[i]), loc=\"right\", fontsize=8)\n",
    "\n",
    "    img = images[i].numpy()\n",
    "    minFrom= img.min()\n",
    "    maxFrom= img.max()\n",
    "    minTo = 0\n",
    "    maxTo = 1\n",
    "    img = minTo + (maxTo - minTo) * ((img - minFrom) / (maxFrom - minFrom))\n",
    "    plt.imshow(img)"
   ]
  }
 ],
 "metadata": {
  "accelerator": "GPU",
  "colab": {
   "collapsed_sections": [],
   "name": "FaceRecognition_1.ipynb",
   "provenance": []
  },
  "kernelspec": {
   "display_name": "Python 3",
   "language": "python",
   "name": "python3"
  },
  "language_info": {
   "codemirror_mode": {
    "name": "ipython",
    "version": 3
   },
   "file_extension": ".py",
   "mimetype": "text/x-python",
   "name": "python",
   "nbconvert_exporter": "python",
   "pygments_lexer": "ipython3",
   "version": "3.8.5"
  }
 },
 "nbformat": 4,
 "nbformat_minor": 1
}
